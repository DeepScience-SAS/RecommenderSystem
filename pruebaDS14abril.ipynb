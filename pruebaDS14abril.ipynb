{
 "cells": [
  {
   "cell_type": "code",
   "execution_count": 1,
   "metadata": {},
   "outputs": [],
   "source": [
    "import os\n",
    "import zipfile\n",
    "import csv\n",
    "\n",
    "import requests\n",
    "\n",
    "def get_data():\n",
    "    return csv.DictReader((x for x in open(\"data/FacAbr2020_f.csv\",encoding = \"utf-8\")), delimiter=\";\",)\n",
    "\n",
    "def get_ratings():\n",
    "    return get_data()\n",
    "\n",
    "def get_book_features():\n",
    "\n",
    "    return get_data()"
   ]
  },
  {
   "cell_type": "code",
   "execution_count": 2,
   "metadata": {},
   "outputs": [],
   "source": [
    "import json\n",
    "from itertools import islice\n",
    "\n",
    "ratings = get_data()"
   ]
  },
  {
   "cell_type": "code",
   "execution_count": 3,
   "metadata": {},
   "outputs": [
    {
     "name": "stdout",
     "output_type": "stream",
     "text": [
      "{\n",
      "    \"User-ID\": \"\\ufeff1000805531\",\n",
      "    \"PRODUCT-ID\": \"106030\",\n",
      "    \"PURCHASE\": \"1\"\n",
      "}\n",
      "{\n",
      "    \"User-ID\": \"1000805531\",\n",
      "    \"PRODUCT-ID\": \"135033\",\n",
      "    \"PURCHASE\": \"1\"\n",
      "}\n"
     ]
    }
   ],
   "source": [
    "for line in islice(ratings, 2):\n",
    "    print(json.dumps(line, indent=4))"
   ]
  },
  {
   "cell_type": "code",
   "execution_count": 5,
   "metadata": {},
   "outputs": [],
   "source": [
    "from lightfm.data import Dataset\n",
    "\n",
    "dataset = Dataset()\n",
    "dataset.fit((x['User-ID'] for x in get_ratings()),\n",
    "            (x['PRODUCT-ID'] for x in get_ratings()))"
   ]
  },
  {
   "cell_type": "code",
   "execution_count": 6,
   "metadata": {},
   "outputs": [
    {
     "name": "stdout",
     "output_type": "stream",
     "text": [
      "Num users: 6608, num_items 2186.\n"
     ]
    }
   ],
   "source": [
    "num_users, num_items = dataset.interactions_shape()\n",
    "print('Num users: {}, num_items {}.'.format(num_users, num_items))"
   ]
  },
  {
   "cell_type": "code",
   "execution_count": 6,
   "metadata": {},
   "outputs": [
    {
     "name": "stdout",
     "output_type": "stream",
     "text": [
      "<1259x119 sparse matrix of type '<class 'numpy.int32'>'\n",
      "\twith 4487 stored elements in COOrdinate format>\n",
      "<1259x119 sparse matrix of type '<class 'numpy.float32'>'\n",
      "\twith 4487 stored elements in COOrdinate format>\n"
     ]
    }
   ],
   "source": [
    "(interactions, weights) = dataset.build_interactions(((x['User-ID'], x['ISBN'],float(x['Book-Rating']))\n",
    "                                                      for x in get_ratings()))\n",
    "\n",
    "print(repr(interactions))\n",
    "print(repr(weights))"
   ]
  },
  {
   "cell_type": "code",
   "execution_count": 7,
   "metadata": {},
   "outputs": [
    {
     "name": "stdout",
     "output_type": "stream",
     "text": [
      "  (0, 0)\t1\n",
      "  (1, 0)\t1\n",
      "  (2, 0)\t1\n",
      "  (3, 0)\t1\n",
      "  (4, 0)\t1\n",
      "  (5, 0)\t1\n",
      "  (6, 0)\t1\n",
      "  (7, 0)\t1\n",
      "  (8, 0)\t1\n",
      "  (9, 0)\t1\n",
      "  (10, 0)\t1\n",
      "  (11, 0)\t1\n",
      "  (12, 0)\t1\n",
      "  (13, 0)\t1\n",
      "  (14, 0)\t1\n",
      "  (15, 0)\t1\n",
      "  (16, 0)\t1\n",
      "  (17, 0)\t1\n",
      "  (18, 0)\t1\n",
      "  (19, 0)\t1\n",
      "  (20, 0)\t1\n",
      "  (21, 0)\t1\n",
      "  (22, 0)\t1\n",
      "  (23, 0)\t1\n",
      "  (24, 0)\t1\n",
      "  :\t:\n",
      "  (663, 117)\t1\n",
      "  (894, 117)\t1\n",
      "  (1253, 117)\t1\n",
      "  (151, 117)\t1\n",
      "  (454, 118)\t1\n",
      "  (82, 118)\t1\n",
      "  (1254, 118)\t1\n",
      "  (12, 118)\t1\n",
      "  (478, 118)\t1\n",
      "  (702, 118)\t1\n",
      "  (1255, 118)\t1\n",
      "  (173, 118)\t1\n",
      "  (1256, 118)\t1\n",
      "  (15, 118)\t1\n",
      "  (176, 118)\t1\n",
      "  (1257, 118)\t1\n",
      "  (19, 118)\t1\n",
      "  (490, 118)\t1\n",
      "  (86, 118)\t1\n",
      "  (73, 118)\t1\n",
      "  (28, 118)\t1\n",
      "  (1198, 118)\t1\n",
      "  (1258, 118)\t1\n",
      "  (1201, 118)\t1\n",
      "  (432, 118)\t1\n"
     ]
    }
   ],
   "source": [
    "print(interactions)"
   ]
  },
  {
   "cell_type": "code",
   "execution_count": 8,
   "metadata": {},
   "outputs": [
    {
     "name": "stdout",
     "output_type": "stream",
     "text": [
      "  (0, 0)\t3.0\n",
      "  (1, 0)\t1.0\n",
      "  (2, 0)\t1.0\n",
      "  (3, 0)\t3.0\n",
      "  (4, 0)\t1.0\n",
      "  (5, 0)\t1.0\n",
      "  (6, 0)\t1.0\n",
      "  (7, 0)\t1.0\n",
      "  (8, 0)\t1.0\n",
      "  (9, 0)\t2.0\n",
      "  (10, 0)\t1.0\n",
      "  (11, 0)\t1.0\n",
      "  (12, 0)\t1.0\n",
      "  (13, 0)\t1.0\n",
      "  (14, 0)\t1.0\n",
      "  (15, 0)\t1.0\n",
      "  (16, 0)\t3.0\n",
      "  (17, 0)\t3.0\n",
      "  (18, 0)\t1.0\n",
      "  (19, 0)\t1.0\n",
      "  (20, 0)\t3.0\n",
      "  (21, 0)\t1.0\n",
      "  (22, 0)\t1.0\n",
      "  (23, 0)\t1.0\n",
      "  (24, 0)\t1.0\n",
      "  :\t:\n",
      "  (663, 117)\t2.0\n",
      "  (894, 117)\t1.0\n",
      "  (1253, 117)\t1.0\n",
      "  (151, 117)\t1.0\n",
      "  (454, 118)\t1.0\n",
      "  (82, 118)\t1.0\n",
      "  (1254, 118)\t1.0\n",
      "  (12, 118)\t1.0\n",
      "  (478, 118)\t1.0\n",
      "  (702, 118)\t1.0\n",
      "  (1255, 118)\t1.0\n",
      "  (173, 118)\t1.0\n",
      "  (1256, 118)\t1.0\n",
      "  (15, 118)\t3.0\n",
      "  (176, 118)\t1.0\n",
      "  (1257, 118)\t1.0\n",
      "  (19, 118)\t1.0\n",
      "  (490, 118)\t1.0\n",
      "  (86, 118)\t1.0\n",
      "  (73, 118)\t2.0\n",
      "  (28, 118)\t1.0\n",
      "  (1198, 118)\t1.0\n",
      "  (1258, 118)\t1.0\n",
      "  (1201, 118)\t1.0\n",
      "  (432, 118)\t2.0\n"
     ]
    }
   ],
   "source": [
    "print(weights)"
   ]
  },
  {
   "cell_type": "code",
   "execution_count": 9,
   "metadata": {},
   "outputs": [
    {
     "data": {
      "text/plain": [
       "<lightfm.lightfm.LightFM at 0x7fd274444310>"
      ]
     },
     "execution_count": 9,
     "metadata": {},
     "output_type": "execute_result"
    }
   ],
   "source": [
    "from lightfm import LightFM\n",
    "\n",
    "model = LightFM(loss='bpr')\n",
    "model.fit(weights)"
   ]
  },
  {
   "cell_type": "code",
   "execution_count": 10,
   "metadata": {},
   "outputs": [
    {
     "name": "stdout",
     "output_type": "stream",
     "text": [
      "Precision: train 0.11\n"
     ]
    }
   ],
   "source": [
    "from lightfm.evaluation import precision_at_k\n",
    "from lightfm.evaluation import auc_score\n",
    "\n",
    "train_precision = precision_at_k(model, weights, k=10).mean()\n",
    "\n",
    "print('Precision: train %.2f' % (train_precision))"
   ]
  },
  {
   "cell_type": "code",
   "execution_count": null,
   "metadata": {},
   "outputs": [],
   "source": []
  }
 ],
 "metadata": {
  "kernelspec": {
   "display_name": "Python 3",
   "language": "python",
   "name": "python3"
  },
  "language_info": {
   "codemirror_mode": {
    "name": "ipython",
    "version": 3
   },
   "file_extension": ".py",
   "mimetype": "text/x-python",
   "name": "python",
   "nbconvert_exporter": "python",
   "pygments_lexer": "ipython3",
   "version": "3.7.6"
  }
 },
 "nbformat": 4,
 "nbformat_minor": 4
}
