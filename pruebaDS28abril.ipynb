{
 "cells": [
  {
   "cell_type": "code",
   "execution_count": 1,
   "metadata": {},
   "outputs": [],
   "source": [
    "import os\n",
    "import zipfile\n",
    "import csv\n",
    "\n",
    "import requests\n",
    "\n",
    "def get_data():\n",
    "    return csv.DictReader((x for x in open(\"data/trim_fac/FacEneMar2020.csv\",encoding = \"utf-8-sig\")), delimiter=\";\",)\n",
    "\n",
    "def get_ratings():\n",
    "    return get_data()\n",
    "\n",
    "def get_book_features():\n",
    "    return get_data()"
   ]
  },
  {
   "cell_type": "code",
   "execution_count": 2,
   "metadata": {},
   "outputs": [],
   "source": [
    "import json\n",
    "from itertools import islice\n",
    "\n",
    "ratings = get_data()"
   ]
  },
  {
   "cell_type": "code",
   "execution_count": 3,
   "metadata": {},
   "outputs": [
    {
     "name": "stdout",
     "output_type": "stream",
     "text": [
      "{\n",
      "    \"NIT\": \"1000183234\",\n",
      "    \"ARTCOD\": \"173164\",\n",
      "    \"NUM_VECES_COMP\": \"1\",\n",
      "    \"TRIMESTRE\": \"1\"\n",
      "}\n",
      "{\n",
      "    \"NIT\": \"1000183234\",\n",
      "    \"ARTCOD\": \"173203\",\n",
      "    \"NUM_VECES_COMP\": \"1\",\n",
      "    \"TRIMESTRE\": \"1\"\n",
      "}\n"
     ]
    }
   ],
   "source": [
    "for line in islice(ratings, 2):\n",
    "    print(json.dumps(line, indent=4))"
   ]
  },
  {
   "cell_type": "code",
   "execution_count": 4,
   "metadata": {},
   "outputs": [],
   "source": [
    "from lightfm.data import Dataset\n",
    "\n",
    "dataset = Dataset()\n",
    "dataset.fit((x['NIT'] for x in get_ratings()),\n",
    "            (x['ARTCOD'] for x in get_ratings()))"
   ]
  },
  {
   "cell_type": "code",
   "execution_count": 5,
   "metadata": {},
   "outputs": [
    {
     "name": "stdout",
     "output_type": "stream",
     "text": [
      "Num users: 11875, num_items 3384.\n"
     ]
    }
   ],
   "source": [
    "num_users, num_items = dataset.interactions_shape()\n",
    "print('Num users: {}, num_items {}.'.format(num_users, num_items))"
   ]
  },
  {
   "cell_type": "code",
   "execution_count": 6,
   "metadata": {},
   "outputs": [
    {
     "name": "stdout",
     "output_type": "stream",
     "text": [
      "<11875x3384 sparse matrix of type '<class 'numpy.int32'>'\n",
      "\twith 651552 stored elements in COOrdinate format>\n",
      "<11875x3384 sparse matrix of type '<class 'numpy.float32'>'\n",
      "\twith 651552 stored elements in COOrdinate format>\n"
     ]
    }
   ],
   "source": [
    "(interactions, weights) = dataset.build_interactions(((x['NIT'], x['ARTCOD'],float(x['NUM_VECES_COMP']))\n",
    "                                                      for x in get_ratings()))\n",
    "\n",
    "print(repr(interactions))\n",
    "print(repr(weights))"
   ]
  },
  {
   "cell_type": "code",
   "execution_count": 7,
   "metadata": {},
   "outputs": [
    {
     "name": "stdout",
     "output_type": "stream",
     "text": [
      "  (0, 0)\t1\n",
      "  (0, 1)\t1\n",
      "  (0, 2)\t1\n",
      "  (0, 3)\t1\n",
      "  (0, 4)\t1\n",
      "  (0, 5)\t1\n",
      "  (0, 6)\t1\n",
      "  (0, 7)\t1\n",
      "  (0, 8)\t1\n",
      "  (0, 9)\t1\n",
      "  (0, 10)\t1\n",
      "  (0, 11)\t1\n",
      "  (0, 12)\t1\n",
      "  (0, 13)\t1\n",
      "  (0, 14)\t1\n",
      "  (0, 15)\t1\n",
      "  (0, 16)\t1\n",
      "  (0, 17)\t1\n",
      "  (0, 18)\t1\n",
      "  (0, 19)\t1\n",
      "  (0, 20)\t1\n",
      "  (0, 21)\t1\n",
      "  (0, 22)\t1\n",
      "  (0, 23)\t1\n",
      "  (0, 24)\t1\n",
      "  :\t:\n",
      "  (11874, 165)\t1\n",
      "  (11874, 63)\t1\n",
      "  (11874, 480)\t1\n",
      "  (11874, 1272)\t1\n",
      "  (11874, 577)\t1\n",
      "  (11874, 472)\t1\n",
      "  (11874, 148)\t1\n",
      "  (11874, 2148)\t1\n",
      "  (11874, 557)\t1\n",
      "  (11874, 71)\t1\n",
      "  (11874, 164)\t1\n",
      "  (11874, 589)\t1\n",
      "  (11874, 360)\t1\n",
      "  (11874, 588)\t1\n",
      "  (11874, 392)\t1\n",
      "  (11874, 2508)\t1\n",
      "  (11874, 1810)\t1\n",
      "  (11874, 359)\t1\n",
      "  (11874, 1114)\t1\n",
      "  (11874, 1550)\t1\n",
      "  (11874, 173)\t1\n",
      "  (11874, 409)\t1\n",
      "  (11874, 852)\t1\n",
      "  (11874, 479)\t1\n",
      "  (11874, 203)\t1\n"
     ]
    }
   ],
   "source": [
    "print(interactions)"
   ]
  },
  {
   "cell_type": "code",
   "execution_count": 8,
   "metadata": {},
   "outputs": [
    {
     "name": "stdout",
     "output_type": "stream",
     "text": [
      "  (0, 0)\t1.0\n",
      "  (0, 1)\t1.0\n",
      "  (0, 2)\t1.0\n",
      "  (0, 3)\t1.0\n",
      "  (0, 4)\t1.0\n",
      "  (0, 5)\t1.0\n",
      "  (0, 6)\t1.0\n",
      "  (0, 7)\t1.0\n",
      "  (0, 8)\t1.0\n",
      "  (0, 9)\t1.0\n",
      "  (0, 10)\t1.0\n",
      "  (0, 11)\t1.0\n",
      "  (0, 12)\t1.0\n",
      "  (0, 13)\t1.0\n",
      "  (0, 14)\t1.0\n",
      "  (0, 15)\t1.0\n",
      "  (0, 16)\t1.0\n",
      "  (0, 17)\t1.0\n",
      "  (0, 18)\t1.0\n",
      "  (0, 19)\t1.0\n",
      "  (0, 20)\t1.0\n",
      "  (0, 21)\t1.0\n",
      "  (0, 22)\t1.0\n",
      "  (0, 23)\t1.0\n",
      "  (0, 24)\t1.0\n",
      "  :\t:\n",
      "  (11874, 165)\t2.0\n",
      "  (11874, 63)\t2.0\n",
      "  (11874, 480)\t3.0\n",
      "  (11874, 1272)\t1.0\n",
      "  (11874, 577)\t6.0\n",
      "  (11874, 472)\t2.0\n",
      "  (11874, 148)\t4.0\n",
      "  (11874, 2148)\t1.0\n",
      "  (11874, 557)\t1.0\n",
      "  (11874, 71)\t1.0\n",
      "  (11874, 164)\t1.0\n",
      "  (11874, 589)\t4.0\n",
      "  (11874, 360)\t1.0\n",
      "  (11874, 588)\t4.0\n",
      "  (11874, 392)\t2.0\n",
      "  (11874, 2508)\t2.0\n",
      "  (11874, 1810)\t1.0\n",
      "  (11874, 359)\t3.0\n",
      "  (11874, 1114)\t1.0\n",
      "  (11874, 1550)\t7.0\n",
      "  (11874, 173)\t4.0\n",
      "  (11874, 409)\t7.0\n",
      "  (11874, 852)\t1.0\n",
      "  (11874, 479)\t3.0\n",
      "  (11874, 203)\t3.0\n"
     ]
    }
   ],
   "source": [
    "print(weights)"
   ]
  },
  {
   "cell_type": "code",
   "execution_count": 9,
   "metadata": {},
   "outputs": [
    {
     "data": {
      "text/plain": [
       "<lightfm.lightfm.LightFM at 0x7fe4e77f40d0>"
      ]
     },
     "execution_count": 9,
     "metadata": {},
     "output_type": "execute_result"
    }
   ],
   "source": [
    "from lightfm import LightFM\n",
    "\n",
    "model = LightFM(loss='bpr')\n",
    "model.fit(weights)"
   ]
  },
  {
   "cell_type": "code",
   "execution_count": 12,
   "metadata": {},
   "outputs": [
    {
     "name": "stdout",
     "output_type": "stream",
     "text": [
      "Precision: train 0.51\n"
     ]
    }
   ],
   "source": [
    "from lightfm.evaluation import precision_at_k\n",
    "from lightfm.evaluation import auc_score\n",
    "\n",
    "train_precision = precision_at_k(model, weights, k=3).mean()\n",
    "\n",
    "print('Precision: train %.2f' % (train_precision))"
   ]
  },
  {
   "cell_type": "code",
   "execution_count": 1,
   "metadata": {},
   "outputs": [],
   "source": [
    "import os\n",
    "import zipfile\n",
    "import csv\n",
    "\n",
    "dict_csv1 = csv.DictReader((x for x in open(\"data/NcAbr2020.csv\",encoding = \"utf-8-sig\")), delimiter=\";\",)\n",
    "dict_csv2 = csv.DictReader((x for x in open(\"data/FacAgo2020_f.csv\",encoding = \"utf-8-sig\")), delimiter=\";\",)"
   ]
  },
  {
   "cell_type": "code",
   "execution_count": 2,
   "metadata": {},
   "outputs": [
    {
     "name": "stdout",
     "output_type": "stream",
     "text": [
      "{\n",
      "    \"\\ufeff1000805531\": \"1002807191\",\n",
      "    \"135033\": \"108298\",\n",
      "    \"1\": \"1\"\n",
      "}\n",
      "{\n",
      "    \"\\ufeff1000805531\": \"1002807191\",\n",
      "    \"135033\": \"151321\",\n",
      "    \"1\": \"1\"\n",
      "}\n"
     ]
    }
   ],
   "source": [
    "import json\n",
    "from itertools import islice\n",
    "\n",
    "for line in islice(dict_csv1, 2):\n",
    "    print(json.dumps(line, indent=4))"
   ]
  },
  {
   "cell_type": "code",
   "execution_count": 13,
   "metadata": {},
   "outputs": [],
   "source": [
    "from lightfm.data import Dataset\n",
    "\n",
    "dataset = Dataset()\n",
    "dataset.fit((x['User-ID'] for x in dict_csv1),\n",
    "            (x['PRODUCT-ID'] for x in dict_csv1))"
   ]
  },
  {
   "cell_type": "code",
   "execution_count": 14,
   "metadata": {},
   "outputs": [
    {
     "name": "stdout",
     "output_type": "stream",
     "text": [
      "Num users: 6608, num_items 0.\n"
     ]
    }
   ],
   "source": [
    "num_users, num_items = dataset1.interactions_shape()\n",
    "print('Num users: {}, num_items {}.'.format(num_users, num_items))"
   ]
  },
  {
   "cell_type": "code",
   "execution_count": 10,
   "metadata": {},
   "outputs": [
    {
     "data": {
      "text/plain": [
       "<generator object <genexpr> at 0x7f2626e3c8d0>"
      ]
     },
     "execution_count": 10,
     "metadata": {},
     "output_type": "execute_result"
    }
   ],
   "source": [
    "(print(x) for x in dict_csv1)"
   ]
  },
  {
   "cell_type": "code",
   "execution_count": null,
   "metadata": {},
   "outputs": [],
   "source": []
  }
 ],
 "metadata": {
  "kernelspec": {
   "display_name": "Python 3",
   "language": "python",
   "name": "python3"
  },
  "language_info": {
   "codemirror_mode": {
    "name": "ipython",
    "version": 3
   },
   "file_extension": ".py",
   "mimetype": "text/x-python",
   "name": "python",
   "nbconvert_exporter": "python",
   "pygments_lexer": "ipython3",
   "version": "3.7.6"
  }
 },
 "nbformat": 4,
 "nbformat_minor": 4
}
