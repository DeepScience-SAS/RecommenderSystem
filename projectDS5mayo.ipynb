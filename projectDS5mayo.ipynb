{
 "cells": [
  {
   "cell_type": "code",
   "execution_count": 1,
   "metadata": {},
   "outputs": [],
   "source": [
    "import os\n",
    "import zipfile\n",
    "import csv\n",
    "\n",
    "import requests\n",
    "\n",
    "def get_data():\n",
    "    return csv.DictReader((x for x in open(\"data/trim_fac/FacEneMar2020.csv\",encoding = \"utf-8-sig\")), delimiter=\";\",)\n",
    "\n",
    "def get_ratings():\n",
    "    return get_data()\n",
    "\n",
    "def get_book_features():\n",
    "    return get_data()"
   ]
  },
  {
   "cell_type": "code",
   "execution_count": 2,
   "metadata": {},
   "outputs": [],
   "source": [
    "import json\n",
    "from itertools import islice\n",
    "\n",
    "ratings = get_data()"
   ]
  },
  {
   "cell_type": "code",
   "execution_count": 3,
   "metadata": {},
   "outputs": [
    {
     "name": "stdout",
     "output_type": "stream",
     "text": [
      "{\n",
      "    \"NIT\": \"1000183234\",\n",
      "    \"ARTCOD\": \"173164\",\n",
      "    \"NUM_VECES_COMP\": \"1\",\n",
      "    \"TRIMESTRE\": \"1\"\n",
      "}\n",
      "{\n",
      "    \"NIT\": \"1000183234\",\n",
      "    \"ARTCOD\": \"173203\",\n",
      "    \"NUM_VECES_COMP\": \"1\",\n",
      "    \"TRIMESTRE\": \"1\"\n",
      "}\n"
     ]
    }
   ],
   "source": [
    "for line in islice(ratings, 2):\n",
    "    print(json.dumps(line, indent=4))"
   ]
  },
  {
   "cell_type": "code",
   "execution_count": 4,
   "metadata": {},
   "outputs": [],
   "source": [
    "from lightfm.data import Dataset\n",
    "\n",
    "dataset = Dataset()\n",
    "dataset.fit((x['NIT'] for x in get_ratings()),\n",
    "            (x['ARTCOD'] for x in get_ratings()))"
   ]
  },
  {
   "cell_type": "code",
   "execution_count": 5,
   "metadata": {},
   "outputs": [
    {
     "name": "stdout",
     "output_type": "stream",
     "text": [
      "Num users: 11875, num_items 3384.\n"
     ]
    }
   ],
   "source": [
    "num_users, num_items = dataset.interactions_shape()\n",
    "print('Num users: {}, num_items {}.'.format(num_users, num_items))"
   ]
  },
  {
   "cell_type": "code",
   "execution_count": 6,
   "metadata": {},
   "outputs": [],
   "source": [
    "dataset.fit_partial(items=(x['ARTCOD'] for x in get_ratings()),\n",
    "                    item_features=(x['NUM_VECES_COMP'] for x in get_ratings()))"
   ]
  },
  {
   "cell_type": "code",
   "execution_count": 7,
   "metadata": {},
   "outputs": [
    {
     "name": "stdout",
     "output_type": "stream",
     "text": [
      "<11875x3384 sparse matrix of type '<class 'numpy.int32'>'\n",
      "\twith 651552 stored elements in COOrdinate format>\n"
     ]
    }
   ],
   "source": [
    "(interactions, weights) = dataset.build_interactions(((x['NIT'], x['ARTCOD'],float(x['NUM_VECES_COMP']))\n",
    "                                                      for x in get_ratings()))\n",
    "\n",
    "print(repr(interactions))"
   ]
  },
  {
   "cell_type": "code",
   "execution_count": 8,
   "metadata": {},
   "outputs": [
    {
     "name": "stdout",
     "output_type": "stream",
     "text": [
      "  (0, 0)\t1.0\n",
      "  (0, 1)\t1.0\n",
      "  (0, 2)\t1.0\n",
      "  (0, 3)\t1.0\n",
      "  (0, 4)\t1.0\n",
      "  (0, 5)\t1.0\n",
      "  (0, 6)\t1.0\n",
      "  (0, 7)\t1.0\n",
      "  (0, 8)\t1.0\n",
      "  (0, 9)\t1.0\n",
      "  (0, 10)\t1.0\n",
      "  (0, 11)\t1.0\n",
      "  (0, 12)\t1.0\n",
      "  (0, 13)\t1.0\n",
      "  (0, 14)\t1.0\n",
      "  (0, 15)\t1.0\n",
      "  (0, 16)\t1.0\n",
      "  (0, 17)\t1.0\n",
      "  (0, 18)\t1.0\n",
      "  (0, 19)\t1.0\n",
      "  (0, 20)\t1.0\n",
      "  (0, 21)\t1.0\n",
      "  (0, 22)\t1.0\n",
      "  (0, 23)\t1.0\n",
      "  (0, 24)\t1.0\n",
      "  :\t:\n",
      "  (11874, 165)\t2.0\n",
      "  (11874, 63)\t2.0\n",
      "  (11874, 480)\t3.0\n",
      "  (11874, 1272)\t1.0\n",
      "  (11874, 577)\t6.0\n",
      "  (11874, 472)\t2.0\n",
      "  (11874, 148)\t4.0\n",
      "  (11874, 2148)\t1.0\n",
      "  (11874, 557)\t1.0\n",
      "  (11874, 71)\t1.0\n",
      "  (11874, 164)\t1.0\n",
      "  (11874, 589)\t4.0\n",
      "  (11874, 360)\t1.0\n",
      "  (11874, 588)\t4.0\n",
      "  (11874, 392)\t2.0\n",
      "  (11874, 2508)\t2.0\n",
      "  (11874, 1810)\t1.0\n",
      "  (11874, 359)\t3.0\n",
      "  (11874, 1114)\t1.0\n",
      "  (11874, 1550)\t7.0\n",
      "  (11874, 173)\t4.0\n",
      "  (11874, 409)\t7.0\n",
      "  (11874, 852)\t1.0\n",
      "  (11874, 479)\t3.0\n",
      "  (11874, 203)\t3.0\n"
     ]
    }
   ],
   "source": [
    "print(weights)"
   ]
  },
  {
   "cell_type": "code",
   "execution_count": 9,
   "metadata": {},
   "outputs": [
    {
     "name": "stdout",
     "output_type": "stream",
     "text": [
      "<3384x3514 sparse matrix of type '<class 'numpy.float32'>'\n",
      "\twith 26530 stored elements in Compressed Sparse Row format>\n"
     ]
    }
   ],
   "source": [
    "item_features = dataset.build_item_features(((x['ARTCOD'], [x['NUM_VECES_COMP']]) \n",
    "                                             for x in get_ratings()))\n",
    "print(repr(item_features))"
   ]
  },
  {
   "cell_type": "code",
   "execution_count": 10,
   "metadata": {},
   "outputs": [
    {
     "name": "stdout",
     "output_type": "stream",
     "text": [
      "  (0, 0)\t0.09090909\n",
      "  (0, 3384)\t0.6363636\n",
      "  (0, 3385)\t0.09090909\n",
      "  (0, 3386)\t0.18181819\n",
      "  (1, 1)\t0.1\n",
      "  (1, 3384)\t0.8\n",
      "  (1, 3386)\t0.1\n",
      "  (2, 2)\t0.024390243\n",
      "  (2, 3384)\t0.6097561\n",
      "  (2, 3385)\t0.07317073\n",
      "  (2, 3386)\t0.14634146\n",
      "  (2, 3390)\t0.048780486\n",
      "  (2, 3392)\t0.048780486\n",
      "  (2, 3394)\t0.024390243\n",
      "  (2, 3395)\t0.024390243\n",
      "  (3, 3)\t0.0068965517\n",
      "  (3, 3384)\t0.7034483\n",
      "  (3, 3385)\t0.06896552\n",
      "  (3, 3386)\t0.18620689\n",
      "  (3, 3390)\t0.0068965517\n",
      "  (3, 3391)\t0.0068965517\n",
      "  (3, 3392)\t0.020689655\n",
      "  (4, 4)\t0.14285715\n",
      "  (4, 3384)\t0.85714287\n",
      "  (5, 5)\t0.003875969\n",
      "  :\t:\n",
      "  (3371, 3384)\t0.5\n",
      "  (3372, 3372)\t0.5\n",
      "  (3372, 3384)\t0.5\n",
      "  (3373, 3373)\t0.5\n",
      "  (3373, 3384)\t0.5\n",
      "  (3374, 3374)\t0.5\n",
      "  (3374, 3384)\t0.5\n",
      "  (3375, 3375)\t0.5\n",
      "  (3375, 3384)\t0.5\n",
      "  (3376, 3376)\t0.5\n",
      "  (3376, 3384)\t0.5\n",
      "  (3377, 3377)\t0.5\n",
      "  (3377, 3384)\t0.5\n",
      "  (3378, 3378)\t0.5\n",
      "  (3378, 3384)\t0.5\n",
      "  (3379, 3379)\t0.5\n",
      "  (3379, 3384)\t0.5\n",
      "  (3380, 3380)\t0.5\n",
      "  (3380, 3384)\t0.5\n",
      "  (3381, 3381)\t0.5\n",
      "  (3381, 3384)\t0.5\n",
      "  (3382, 3382)\t0.5\n",
      "  (3382, 3384)\t0.5\n",
      "  (3383, 3383)\t0.5\n",
      "  (3383, 3384)\t0.5\n"
     ]
    }
   ],
   "source": [
    "print(item_features)"
   ]
  },
  {
   "cell_type": "code",
   "execution_count": 11,
   "metadata": {},
   "outputs": [
    {
     "data": {
      "text/plain": [
       "<lightfm.lightfm.LightFM at 0x7f4ff0955490>"
      ]
     },
     "execution_count": 11,
     "metadata": {},
     "output_type": "execute_result"
    }
   ],
   "source": [
    "from lightfm import LightFM\n",
    "\n",
    "model = LightFM(loss='bpr')\n",
    "model.fit(interactions, item_features=item_features)"
   ]
  },
  {
   "cell_type": "code",
   "execution_count": null,
   "metadata": {},
   "outputs": [],
   "source": []
  }
 ],
 "metadata": {
  "kernelspec": {
   "display_name": "Python 3",
   "language": "python",
   "name": "python3"
  },
  "language_info": {
   "codemirror_mode": {
    "name": "ipython",
    "version": 3
   },
   "file_extension": ".py",
   "mimetype": "text/x-python",
   "name": "python",
   "nbconvert_exporter": "python",
   "pygments_lexer": "ipython3",
   "version": "3.7.6"
  }
 },
 "nbformat": 4,
 "nbformat_minor": 4
}
