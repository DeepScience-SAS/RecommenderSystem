{
 "cells": [
  {
   "cell_type": "code",
   "execution_count": 1,
   "metadata": {},
   "outputs": [],
   "source": [
    "import os\n",
    "import zipfile\n",
    "import csv\n",
    "\n",
    "import requests\n",
    "\n",
    "def get_data():\n",
    "    return csv.DictReader((x for x in open(\"data/ventas_2016_atributos.csv\",encoding = \"utf-8-sig\")), delimiter=\";\",)\n",
    "\n",
    "def get_ratings():\n",
    "    return get_data()\n",
    "\n",
    "def get_book_features():\n",
    "    return csv.DictReader((x for x in open(\"data/ventas_2016_atributos.csv\",encoding = \"utf-8-sig\")), delimiter=\";\",)"
   ]
  },
  {
   "cell_type": "code",
   "execution_count": 2,
   "metadata": {},
   "outputs": [],
   "source": [
    "import json\n",
    "from itertools import islice\n",
    "\n",
    "ratings = get_data()"
   ]
  },
  {
   "cell_type": "code",
   "execution_count": 3,
   "metadata": {},
   "outputs": [
    {
     "name": "stdout",
     "output_type": "stream",
     "text": [
      "{\n",
      "    \"A\\u00d1O\": \"2016\",\n",
      "    \"NIT\": \"70351028\",\n",
      "    \"INACOD\": \"5\",\n",
      "    \"SIGLA_COMERCIAL\": \"AUTOSERVICIO MERCARAPIDO                \",\n",
      "    \"CiuNom\": \"LA DORADA\",\n",
      "    \"canal\": \"SUPERETE\",\n",
      "    \"subcanal\": \"NO TIENE SUB CANAL\",\n",
      "    \"tama\\u00f1o\": \"A\",\n",
      "    \"Punto\": \"NULL\",\n",
      "    \"barrio\": \"CENTRO                                  \",\n",
      "    \"COD_VENDED\": \"B14\",\n",
      "    \"CODIGO_ARTICULO\": \"101021\",\n",
      "    \"ARTICULO\": \"ACEITUNA RELLENA PIMENTON CORU\\u00d1A\",\n",
      "    \"PreArtNom\": \"24 FCO X 250 GR                                             \",\n",
      "    \"COD_GRUPO\": \"101\",\n",
      "    \"GRUPO\": \"INDUSTRIAS LA CORU\\u00d1A\",\n",
      "    \"CODIGO_SUBGRUPO\": \"101-001        \",\n",
      "    \"SUBGRUPO\": \"CONSERVAS                   \",\n",
      "    \"CODIGO_FAMILIA\": \"101-001-0100   \",\n",
      "    \"UND_NEGOCIO\": \"TRAD. POBLACIONES 1 B/MANGA\",\n",
      "    \"FAMILIA\": \"ACEITUNAS                               \",\n",
      "    \"EMBALAJE\": \"24\",\n",
      "    \"NUM_VECES_COMP\": \"1\"\n",
      "}\n",
      "{\n",
      "    \"A\\u00d1O\": \"2016\",\n",
      "    \"NIT\": \"88272013\",\n",
      "    \"INACOD\": \"12\",\n",
      "    \"SIGLA_COMERCIAL\": \"AUTOSERVICIO MERCANTIL AHORRO\",\n",
      "    \"CiuNom\": \"PIEDECUESTA\",\n",
      "    \"canal\": \"SUPERETE\",\n",
      "    \"subcanal\": \"NO TIENE SUB CANAL\",\n",
      "    \"tama\\u00f1o\": \"NULL\",\n",
      "    \"Punto\": \"NULL\",\n",
      "    \"barrio\": \"CENTRO / PCTA                           \",\n",
      "    \"COD_VENDED\": \"BA7\",\n",
      "    \"CODIGO_ARTICULO\": \"101460\",\n",
      "    \"ARTICULO\": \"SALSA BBQ CORUNA\",\n",
      "    \"PreArtNom\": \"12 FCO X 290 GR                                             \",\n",
      "    \"COD_GRUPO\": \"101\",\n",
      "    \"GRUPO\": \"INDUSTRIAS LA CORU\\u00d1A\",\n",
      "    \"CODIGO_SUBGRUPO\": \"101-003\",\n",
      "    \"SUBGRUPO\": \"SALSAS\",\n",
      "    \"CODIGO_FAMILIA\": \"101-003-2347   \",\n",
      "    \"UND_NEGOCIO\": \"AUTOSERVICIO 2 BUCARAMANGA\",\n",
      "    \"FAMILIA\": \"SALSA BBQ                               \",\n",
      "    \"EMBALAJE\": \"12\",\n",
      "    \"NUM_VECES_COMP\": \"1\"\n",
      "}\n"
     ]
    }
   ],
   "source": [
    "for line in islice(ratings, 2):\n",
    "    print(json.dumps(line, indent=4))"
   ]
  },
  {
   "cell_type": "code",
   "execution_count": 4,
   "metadata": {},
   "outputs": [],
   "source": [
    "from lightfm.data import Dataset\n",
    "\n",
    "dataset = Dataset()\n",
    "dataset.fit((x['NIT'] for x in get_ratings()),\n",
    "            (x['CODIGO_ARTICULO'] for x in get_ratings()))"
   ]
  },
  {
   "cell_type": "code",
   "execution_count": 5,
   "metadata": {},
   "outputs": [
    {
     "name": "stdout",
     "output_type": "stream",
     "text": [
      "Num users: 12474, num_items 3207.\n"
     ]
    }
   ],
   "source": [
    "num_users, num_items = dataset.interactions_shape()\n",
    "print('Num users: {}, num_items {}.'.format(num_users, num_items))"
   ]
  },
  {
   "cell_type": "code",
   "execution_count": 6,
   "metadata": {},
   "outputs": [],
   "source": [
    "dataset.fit_partial(items=(x['CODIGO_ARTICULO'] for x in get_ratings()),\n",
    "                    item_features=((x['FAMILIA'],x['EMBALAJE']) for x in get_book_features()))\n"
   ]
  },
  {
   "cell_type": "code",
   "execution_count": null,
   "metadata": {},
   "outputs": [],
   "source": [
    "(interactions, weights) = dataset.build_interactions(((x['NIT'], x['CODIGO_ARTICULO'],float(x['NUM_VECES_COMP']))\n",
    "                                                      for x in get_ratings()))\n",
    "\n",
    "print(repr(interactions))"
   ]
  },
  {
   "cell_type": "code",
   "execution_count": null,
   "metadata": {},
   "outputs": [],
   "source": [
    "print(weights)"
   ]
  },
  {
   "cell_type": "code",
   "execution_count": null,
   "metadata": {},
   "outputs": [],
   "source": [
    "item_features = dataset.build_item_features(((x['CODIGO_ARTICULO'], [(x['FAMILIA'], x['EMBALAJE'])]) \n",
    "                                             for x in get_book_features()))\n",
    "print(repr(item_features))"
   ]
  },
  {
   "cell_type": "code",
   "execution_count": null,
   "metadata": {},
   "outputs": [],
   "source": [
    "print(item_features)"
   ]
  },
  {
   "cell_type": "code",
   "execution_count": null,
   "metadata": {},
   "outputs": [],
   "source": [
    "from lightfm import LightFM\n",
    "\n",
    "model = LightFM(loss='bpr')\n",
    "model.fit(weights, item_features=item_features)"
   ]
  },
  {
   "cell_type": "code",
   "execution_count": null,
   "metadata": {},
   "outputs": [],
   "source": [
    "import numpy as np\n",
    "\n",
    "n_users,n_items = interactions.shape\n",
    "print('shape iteractions: ',interactions.todense().shape)\n",
    "\n",
    "eval_user = 1\n",
    "\n",
    "scores = model.predict(eval_user, np.arange(n_items))\n",
    "print('scores: ',scores.shape)\n",
    "print('negative scores: ',-scores)\n",
    "print('position of items: ',np.argsort(-scores))\n",
    "\n",
    "top_items = interactions.todense()[eval_user,np.argsort(-scores)]\n",
    "print('sorted items: ',top_items)"
   ]
  },
  {
   "cell_type": "code",
   "execution_count": null,
   "metadata": {},
   "outputs": [],
   "source": []
  }
 ],
 "metadata": {
  "kernelspec": {
   "display_name": "Python 3",
   "language": "python",
   "name": "python3"
  },
  "language_info": {
   "codemirror_mode": {
    "name": "ipython",
    "version": 3
   },
   "file_extension": ".py",
   "mimetype": "text/x-python",
   "name": "python",
   "nbconvert_exporter": "python",
   "pygments_lexer": "ipython3",
   "version": "3.7.6"
  }
 },
 "nbformat": 4,
 "nbformat_minor": 4
}
