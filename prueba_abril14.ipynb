{
 "cells": [
  {
   "cell_type": "code",
   "execution_count": 1,
   "metadata": {},
   "outputs": [],
   "source": [
    "import os\n",
    "import zipfile\n",
    "import csv\n",
    "\n",
    "import requests\n",
    "\n",
    "\n",
    "def _download(url: str, dest_path: str):\n",
    "\n",
    "    req = requests.get(url, stream=True)\n",
    "    req.raise_for_status()\n",
    "\n",
    "    with open(dest_path, \"wb\") as fd:\n",
    "        for chunk in req.iter_content(chunk_size=2 ** 20):\n",
    "            fd.write(chunk)\n",
    "\n",
    "\n",
    "def get_data():\n",
    "\n",
    "    ratings_url = (\"http://www2.informatik.uni-freiburg.de/~cziegler/BX/BX-CSV-Dump.zip\")\n",
    "\n",
    "    if not os.path.exists(\"data\"):\n",
    "        os.makedirs(\"data\")\n",
    "\n",
    "    _download(ratings_url, \"data/data.zip\")\n",
    "\n",
    "    with zipfile.ZipFile(\"data/data.zip\") as archive:\n",
    "        return (\n",
    "            csv.DictReader(\n",
    "                (x.decode(\"utf-8\", \"ignore\") for x in archive.open(\"BX-Book-Ratings.csv\")),\n",
    "                delimiter=\";\",\n",
    "            ),\n",
    "            csv.DictReader(\n",
    "                (x.decode(\"utf-8\", \"ignore\") for x in archive.open(\"BX-Books.csv\")), delimiter=\";\"\n",
    "            ),\n",
    "        )\n",
    "\n",
    "\n",
    "def get_ratings():\n",
    "\n",
    "    return get_data()[0]\n",
    "\n",
    "\n",
    "def get_book_features():\n",
    "\n",
    "    return get_data()[1]"
   ]
  },
  {
   "cell_type": "code",
   "execution_count": 2,
   "metadata": {},
   "outputs": [],
   "source": [
    "import json\n",
    "from itertools import islice\n",
    "\n",
    "ratings, book_features = get_data()"
   ]
  },
  {
   "cell_type": "code",
   "execution_count": 3,
   "metadata": {},
   "outputs": [
    {
     "name": "stdout",
     "output_type": "stream",
     "text": [
      "{\n",
      "    \"User-ID\": \"276725\",\n",
      "    \"ISBN\": \"034545104X\",\n",
      "    \"Book-Rating\": \"0\"\n",
      "}\n",
      "{\n",
      "    \"User-ID\": \"276726\",\n",
      "    \"ISBN\": \"0155061224\",\n",
      "    \"Book-Rating\": \"5\"\n",
      "}\n"
     ]
    }
   ],
   "source": [
    "for line in islice(ratings, 2):\n",
    "    print(json.dumps(line, indent=4))"
   ]
  },
  {
   "cell_type": "code",
   "execution_count": 4,
   "metadata": {},
   "outputs": [],
   "source": [
    "from lightfm.data import Dataset\n",
    "\n",
    "dataset = Dataset()\n",
    "dataset.fit((x['User-ID'] for x in get_ratings()),\n",
    "            (x['ISBN'] for x in get_ratings()))"
   ]
  },
  {
   "cell_type": "code",
   "execution_count": 5,
   "metadata": {},
   "outputs": [
    {
     "name": "stdout",
     "output_type": "stream",
     "text": [
      "Num users: 105283, num_items 340553.\n"
     ]
    }
   ],
   "source": [
    "num_users, num_items = dataset.interactions_shape()\n",
    "print('Num users: {}, num_items {}.'.format(num_users, num_items))"
   ]
  },
  {
   "cell_type": "code",
   "execution_count": 6,
   "metadata": {},
   "outputs": [],
   "source": [
    "dataset.fit_partial(items=(x['ISBN'] for x in get_book_features()),\n",
    "                    item_features=(x['Book-Author'] for x in get_book_features()))"
   ]
  },
  {
   "cell_type": "code",
   "execution_count": 7,
   "metadata": {},
   "outputs": [
    {
     "name": "stdout",
     "output_type": "stream",
     "text": [
      "<105283x341762 sparse matrix of type '<class 'numpy.int32'>'\n",
      "\twith 1149780 stored elements in COOrdinate format>\n"
     ]
    }
   ],
   "source": [
    "(interactions, weights) = dataset.build_interactions(((x['User-ID'], x['ISBN'])\n",
    "                                                      for x in get_ratings()))\n",
    "\n",
    "print(repr(interactions))"
   ]
  },
  {
   "cell_type": "code",
   "execution_count": 10,
   "metadata": {},
   "outputs": [
    {
     "name": "stdout",
     "output_type": "stream",
     "text": [
      "  (0, 0)\t1\n",
      "  (1, 1)\t1\n",
      "  (2, 2)\t1\n",
      "  (3, 3)\t1\n",
      "  (3, 4)\t1\n",
      "  (4, 5)\t1\n",
      "  (5, 6)\t1\n",
      "  (6, 7)\t1\n",
      "  (7, 8)\t1\n",
      "  (8, 9)\t1\n",
      "  (9, 10)\t1\n",
      "  (9, 11)\t1\n",
      "  (9, 12)\t1\n",
      "  (9, 13)\t1\n",
      "  (9, 14)\t1\n",
      "  (9, 15)\t1\n",
      "  (10, 16)\t1\n",
      "  (10, 17)\t1\n",
      "  (10, 18)\t1\n",
      "  (10, 19)\t1\n",
      "  (10, 20)\t1\n",
      "  (10, 21)\t1\n",
      "  (10, 22)\t1\n",
      "  (10, 23)\t1\n",
      "  (11, 24)\t1\n",
      "  :\t:\n",
      "  (105276, 109199)\t1\n",
      "  (105276, 255393)\t1\n",
      "  (105276, 340549)\t1\n",
      "  (105277, 146362)\t1\n",
      "  (105278, 50527)\t1\n",
      "  (105278, 34599)\t1\n",
      "  (105278, 3111)\t1\n",
      "  (105278, 50534)\t1\n",
      "  (105278, 56824)\t1\n",
      "  (105278, 12047)\t1\n",
      "  (105278, 26864)\t1\n",
      "  (105278, 20167)\t1\n",
      "  (105278, 46617)\t1\n",
      "  (105278, 8545)\t1\n",
      "  (105278, 195285)\t1\n",
      "  (105278, 340550)\t1\n",
      "  (105278, 8851)\t1\n",
      "  (105278, 2104)\t1\n",
      "  (105278, 340551)\t1\n",
      "  (105278, 284679)\t1\n",
      "  (105278, 226347)\t1\n",
      "  (105279, 7295)\t1\n",
      "  (105280, 12065)\t1\n",
      "  (105281, 78598)\t1\n",
      "  (105282, 340552)\t1\n"
     ]
    }
   ],
   "source": [
    "print(interactions)"
   ]
  },
  {
   "cell_type": "code",
   "execution_count": 13,
   "metadata": {},
   "outputs": [],
   "source": [
    "import numpy as np\n",
    "from scipy.sparse import coo_matrix\n",
    "\n",
    "row  = np.array([0, 3, 1, 0])\n",
    "col  = np.array([0, 3, 1, 2])\n",
    "data = np.array([4, 0, 7, 9])\n",
    "sp_matrix = coo_matrix((data, (row, col)), shape=(4, 4))"
   ]
  },
  {
   "cell_type": "code",
   "execution_count": 15,
   "metadata": {},
   "outputs": [
    {
     "name": "stdout",
     "output_type": "stream",
     "text": [
      "<4x4 sparse matrix of type '<class 'numpy.int64'>'\n",
      "\twith 4 stored elements in COOrdinate format>\n",
      "  (0, 0)\t4\n",
      "  (3, 3)\t0\n",
      "  (1, 1)\t7\n",
      "  (0, 2)\t9\n",
      "0\n"
     ]
    }
   ],
   "source": [
    "print(repr(sp_matrix))\n",
    "print(sp_matrix)\n",
    "print(sp_matrix.todense()[1,2])"
   ]
  },
  {
   "cell_type": "code",
   "execution_count": 5,
   "metadata": {},
   "outputs": [],
   "source": [
    "import csv\n",
    "import json\n",
    "from itertools import islice\n",
    "\n",
    "f = open('names.csv', 'w')\n",
    "fnames = ['val']\n",
    "writer = csv.DictWriter(f, fieldnames=fnames)\n",
    "writer.writerow({'val' : 'User-ID;ISBN;Book-Rating'})\n",
    "\n",
    "for x in csv.DictReader(open(\"data/aux_data_headers_2.csv\"),delimiter=\";\"):\n",
    "    if x['Book-Rating']!=\"0\":\n",
    "        writer.writerow({'val' : x['User-ID']+\";\" +x['ISBN'] + \";\" + x['Book-Rating']})"
   ]
  },
  {
   "cell_type": "code",
   "execution_count": null,
   "metadata": {},
   "outputs": [],
   "source": []
  }
 ],
 "metadata": {
  "kernelspec": {
   "display_name": "Python 3",
   "language": "python",
   "name": "python3"
  },
  "language_info": {
   "codemirror_mode": {
    "name": "ipython",
    "version": 3
   },
   "file_extension": ".py",
   "mimetype": "text/x-python",
   "name": "python",
   "nbconvert_exporter": "python",
   "pygments_lexer": "ipython3",
   "version": "3.7.6"
  }
 },
 "nbformat": 4,
 "nbformat_minor": 4
}
